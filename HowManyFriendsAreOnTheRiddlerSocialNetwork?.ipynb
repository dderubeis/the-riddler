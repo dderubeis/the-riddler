{
 "cells": [
  {
   "cell_type": "code",
   "execution_count": 34,
   "metadata": {},
   "outputs": [],
   "source": [
    "def get_factors(x):\n",
    "    factors = []\n",
    "    for i in range(1, x + 1):\n",
    "        if x % i == 0:\n",
    "            factors.append(i)\n",
    "    return factors\n",
    "\n",
    "def convert_inches_to_centimeters(x):\n",
    "    x = int(x)\n",
    "    inches_in_centimeters = 2.54 * x\n",
    "    inches_in_centimeters = round(inches_in_centimeters, 0)\n",
    "    return int(inches_in_centimeters)"
   ]
  },
  {
   "cell_type": "code",
   "execution_count": 39,
   "metadata": {},
   "outputs": [
    {
     "name": "stdout",
     "output_type": "stream",
     "text": [
      "0 0 0\n",
      "36 91 91\n",
      "378 960 960\n"
     ]
    }
   ],
   "source": [
    "for n in range(379):\n",
    "    n_factors = get_factors(n)\n",
    "    sum_n_factors = sum(n_factors)\n",
    "    n_in_centimeters = convert_inches_to_centimeters(n)\n",
    "    if sum_n_factors == n_in_centimeters:\n",
    "        print(n, sum_n_factors, n_in_centimeters)"
   ]
  },
  {
   "cell_type": "code",
   "execution_count": null,
   "metadata": {},
   "outputs": [],
   "source": []
  }
 ],
 "metadata": {
  "kernelspec": {
   "display_name": "Python 3",
   "language": "python",
   "name": "python3"
  },
  "language_info": {
   "codemirror_mode": {
    "name": "ipython",
    "version": 3
   },
   "file_extension": ".py",
   "mimetype": "text/x-python",
   "name": "python",
   "nbconvert_exporter": "python",
   "pygments_lexer": "ipython3",
   "version": "3.7.6"
  }
 },
 "nbformat": 4,
 "nbformat_minor": 4
}
