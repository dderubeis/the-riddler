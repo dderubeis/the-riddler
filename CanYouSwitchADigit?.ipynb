{
 "cells": [
  {
   "cell_type": "markdown",
   "id": "c986adcf",
   "metadata": {},
   "source": [
    "Riddler Express\n",
    "From Ben Weiss and David Butler comes a what is presumably Eleven’s favorite puzzle to think about in her sensory deprivation tank:\n",
    "\n",
    "Anna loves multiples of 11, but her friend Jane is not quite so keen. One day, Anna is flipping idly through the yellow pages (remember those?), which is full of 10-digit numbers. She notices that every 10-digit number seems to have an interesting property: It is either a multiple of 11, or it can be made a multiple of 11 by changing a single digit. For example, there are several ways to make the 10-digit number 5551234567 into a multiple of 11, such as changing the first digit to 4.\n",
    "\n",
    "This gets the two friends wondering: Does every counting number have this property? Either prove it’s true for every number, or find the smallest counting number that is not a multiple of 11 and cannot be made a multiple of 11 by changing one digit."
   ]
  },
  {
   "cell_type": "code",
   "execution_count": 23,
   "id": "d25587fa",
   "metadata": {},
   "outputs": [],
   "source": [
    "import itertools\n",
    "\n",
    "def guessables(num):\n",
    "    guesses = []\n",
    "    nonguesses = []\n",
    "    for p in itertools.permutations(range(10),num):\n",
    "        n = float(''.join(map(str, p)))\n",
    "        s = ''.join(map(str, p))\n",
    "        if n % 11 == 0: # p[0] != 0:\n",
    "            guesses.append(s)\n",
    "        else:\n",
    "            nonguesses.append(s)\n",
    "    return guesses, nonguesses"
   ]
  },
  {
   "cell_type": "code",
   "execution_count": 24,
   "id": "9c68e403",
   "metadata": {},
   "outputs": [],
   "source": [
    "guessables, nonguessables = guessables(10)"
   ]
  },
  {
   "cell_type": "code",
   "execution_count": 212,
   "id": "f87ae884",
   "metadata": {},
   "outputs": [],
   "source": [
    "def switch_digits(nonguessables):\n",
    "    nonguesses = []\n",
    "    for g in nonguessables:\n",
    "        # change each digit in the number\n",
    "        for d in range(len(g)):\n",
    "            digits = list(set(list(range(10))) - set([d]))\n",
    "            for t in digits:\n",
    "                s = g.replace(g[d], str(t), 1)\n",
    "                n = float(s)\n",
    "                if n % 11 != 0:\n",
    "                    # print(s, g)\n",
    "                    nonguesses.append((s, g))\n",
    "    return nonguesses\n",
    "\n",
    "switched_nonguessables = switch_digits(sorted(nonguessables))"
   ]
  },
  {
   "cell_type": "code",
   "execution_count": 194,
   "id": "ebc74a34",
   "metadata": {},
   "outputs": [],
   "source": [
    "# Find the smallest non-multiple of 11 with a switched digit\n",
    "min_nonmultiple_switched = min([x[0] for x in switched_nonguessables])"
   ]
  },
  {
   "cell_type": "code",
   "execution_count": 195,
   "id": "512d11d9",
   "metadata": {},
   "outputs": [],
   "source": [
    "# Find the smallest corresponding non-multiple of 11 without a switched digit\n",
    "min_nonmultiple_switched_pair = min([x[1] for x in switched_nonguessables if x[0] == '1012345678'])"
   ]
  },
  {
   "cell_type": "code",
   "execution_count": 202,
   "id": "9f838239",
   "metadata": {},
   "outputs": [],
   "source": [
    "# Check that the smallest corresponding non-multiple of 11 without a switched digit is greater than \n",
    "# the smallest non-multiple of 11 without a switched digit (assertion should be True)\n",
    "min_nonmultiple = min(nonguessables)\n",
    "assert (float(min_nonmultiple_switched_pair) < float(min_nonmultiple)) == False"
   ]
  },
  {
   "cell_type": "code",
   "execution_count": 210,
   "id": "d81bb045",
   "metadata": {},
   "outputs": [],
   "source": [
    "# Check that the minimum non-multiple is not a multiple of 11\n",
    "assert float(min_nonmultiple)% 11 != 0"
   ]
  },
  {
   "cell_type": "code",
   "execution_count": 211,
   "id": "34a07255",
   "metadata": {},
   "outputs": [],
   "source": [
    "# Find the minimum pair element for the smallest non-multiple of 11 and check that it's not a multiple of 11\n",
    "nonmultiple_switched_pair = min([x[0] for x in switched_nonguessables if x[1] == min_nonmultiple])\n",
    "assert float(nonmultiple_switched_pair) % 11 != 0"
   ]
  },
  {
   "cell_type": "code",
   "execution_count": null,
   "id": "6b42501b",
   "metadata": {},
   "outputs": [],
   "source": []
  }
 ],
 "metadata": {
  "kernelspec": {
   "display_name": "Python 3 (ipykernel)",
   "language": "python",
   "name": "python3"
  },
  "language_info": {
   "codemirror_mode": {
    "name": "ipython",
    "version": 3
   },
   "file_extension": ".py",
   "mimetype": "text/x-python",
   "name": "python",
   "nbconvert_exporter": "python",
   "pygments_lexer": "ipython3",
   "version": "3.9.7"
  }
 },
 "nbformat": 4,
 "nbformat_minor": 5
}
