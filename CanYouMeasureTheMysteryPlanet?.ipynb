{
 "cells": [
  {
   "cell_type": "markdown",
   "id": "b05ee073",
   "metadata": {},
   "source": [
    "# Riddler Express\n",
    "\n",
    "https://fivethirtyeight.com/features/can-you-measure-the-mystery-planet/\n",
    "\n",
    "From Starvind comes an aurulent enigma:\n",
    "\n",
    "You have a case with 11 golden globes, weighing 1 kilogram, 2 kg and so on, up to 11 kg. And you know exactly which globe is which.\n",
    "\n",
    "You have arranged to sell one of the globes to a queen. She has heard tales of these orbs, and knows for a fact that they have masses from 1 kg to 11 kg. However, she doesn’t know which is which and will not simply take your word for it. She will purchase a globe if you can demonstrate its weight.\n",
    "\n",
    "The queen has a balancing scale with two plates, one on each side. It shows whether the total weight on either plate is equal or, if not, which side is heavier. The queen can clearly see which globes you place on which plate. However, if at any point the mass on either side exceeds 11 kg, the scale will break and the queen will refuse to buy from you. \n",
    "\n",
    "The queen is in a hurry for her next appointment, so time is limited. What is the fewest number of weighings by which you can prove the weight of at least one globe? Which globe is it?"
   ]
  },
  {
   "cell_type": "markdown",
   "id": "3040a64e",
   "metadata": {},
   "source": [
    "## Solution\n",
    "\n",
    "I generated the weights (in kilograms) for each of the even globes by looping through a range of values from one to twelve (i.e. number of globes plus one) in increments of one kg, since Python uses zero-based indexing.\n",
    "\n",
    "Subsequently, I created a dictionary with the weights of the globes as keys and empty lists as values. My intent is to store the tuples that sum to that number using combinations of different globes. I only store sums that do not exceed 11 kilograms based on the restrictions of the scale. There were 54 possibilities out of 2048. This shows the that for each globe of weight k, the other arrangements of globes that equal the same value. \n",
    "\n",
    "My intent was to find a globe with only two other combinations (excluding itself). If we show in two weighings that the scale remains unchanged for one globe, we can prove its weight. The only globe that satisfied this condition was the fifth globe (presumably 5kg), wherein you could use globes 1 (1kg) and 4 (4kg) in one weighing, followed by 2 (2kg) and 3 (3kg) in the subsequent weighing to demonstrate that the globe weighs 5kg, as the balance of the scale would not change.\n",
    "\n",
    "This approach handles the small values of this puzzle well, but wouldn't scale if there were hundreds or thousands of globes."
   ]
  },
  {
   "cell_type": "code",
   "execution_count": 23,
   "id": "a5c355d5",
   "metadata": {},
   "outputs": [],
   "source": [
    "number_of_globes = 11\n",
    "globe_weights = list(range(1, number_of_globes+1, 1))"
   ]
  },
  {
   "cell_type": "code",
   "execution_count": 46,
   "id": "9d51da58",
   "metadata": {},
   "outputs": [],
   "source": [
    "from itertools import chain, combinations\n",
    "\n",
    "def all_subsets(ss):\n",
    "    return chain(*map(lambda x: combinations(ss, x), range(0, len(ss)+1)))\n",
    "\n",
    "valid_subsets = {k: [] for k in globe_weights}\n",
    "subsets = list(all_subsets(globe_weights))\n",
    "\n",
    "for subset in all_subsets(globe_weights):\n",
    "    subset_sum = sum(subset)\n",
    "    if subset_sum <= 11 and len(subset) > 0:\n",
    "        valid_subsets[subset_sum].append(subset)\n",
    "        # print(subset)"
   ]
  },
  {
   "cell_type": "code",
   "execution_count": 47,
   "id": "ed0c9cd0",
   "metadata": {},
   "outputs": [
    {
     "data": {
      "text/plain": [
       "54"
      ]
     },
     "execution_count": 47,
     "metadata": {},
     "output_type": "execute_result"
    }
   ],
   "source": [
    "len([item for sublist in valid_subsets.values() for item in sublist])"
   ]
  },
  {
   "cell_type": "code",
   "execution_count": 48,
   "id": "01c35c24",
   "metadata": {},
   "outputs": [
    {
     "data": {
      "text/plain": [
       "{1: [(1,)],\n",
       " 2: [(2,)],\n",
       " 3: [(3,), (1, 2)],\n",
       " 4: [(4,), (1, 3)],\n",
       " 5: [(5,), (1, 4), (2, 3)],\n",
       " 6: [(6,), (1, 5), (2, 4), (1, 2, 3)],\n",
       " 7: [(7,), (1, 6), (2, 5), (3, 4), (1, 2, 4)],\n",
       " 8: [(8,), (1, 7), (2, 6), (3, 5), (1, 2, 5), (1, 3, 4)],\n",
       " 9: [(9,), (1, 8), (2, 7), (3, 6), (4, 5), (1, 2, 6), (1, 3, 5), (2, 3, 4)],\n",
       " 10: [(10,),\n",
       "  (1, 9),\n",
       "  (2, 8),\n",
       "  (3, 7),\n",
       "  (4, 6),\n",
       "  (1, 2, 7),\n",
       "  (1, 3, 6),\n",
       "  (1, 4, 5),\n",
       "  (2, 3, 5),\n",
       "  (1, 2, 3, 4)],\n",
       " 11: [(11,),\n",
       "  (1, 10),\n",
       "  (2, 9),\n",
       "  (3, 8),\n",
       "  (4, 7),\n",
       "  (5, 6),\n",
       "  (1, 2, 8),\n",
       "  (1, 3, 7),\n",
       "  (1, 4, 6),\n",
       "  (2, 3, 6),\n",
       "  (2, 4, 5),\n",
       "  (1, 2, 3, 5)]}"
      ]
     },
     "execution_count": 48,
     "metadata": {},
     "output_type": "execute_result"
    }
   ],
   "source": [
    "valid_subsets"
   ]
  },
  {
   "cell_type": "code",
   "execution_count": null,
   "id": "2a34ae4d",
   "metadata": {},
   "outputs": [],
   "source": []
  }
 ],
 "metadata": {
  "kernelspec": {
   "display_name": "Python 3 (ipykernel)",
   "language": "python",
   "name": "python3"
  },
  "language_info": {
   "codemirror_mode": {
    "name": "ipython",
    "version": 3
   },
   "file_extension": ".py",
   "mimetype": "text/x-python",
   "name": "python",
   "nbconvert_exporter": "python",
   "pygments_lexer": "ipython3",
   "version": "3.9.7"
  }
 },
 "nbformat": 4,
 "nbformat_minor": 5
}
