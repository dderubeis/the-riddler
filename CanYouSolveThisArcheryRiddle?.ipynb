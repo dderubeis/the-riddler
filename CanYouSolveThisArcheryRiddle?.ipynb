{
 "cells": [
  {
   "cell_type": "code",
   "execution_count": 26,
   "metadata": {},
   "outputs": [],
   "source": [
    "import itertools\n",
    "import collections\n",
    "import statistics"
   ]
  },
  {
   "cell_type": "code",
   "execution_count": 7,
   "metadata": {},
   "outputs": [],
   "source": [
    "bow_1 = [8,8,8]\n",
    "bow_2 = [10,5,9] # equally weighted"
   ]
  },
  {
   "cell_type": "code",
   "execution_count": 13,
   "metadata": {},
   "outputs": [
    {
     "name": "stdout",
     "output_type": "stream",
     "text": [
      "Number of possibilities\n",
      "\tBow 1: 1\n",
      "\tBow 2: 27\n"
     ]
    }
   ],
   "source": [
    "bow_1_possibilities = list(set([p for p in itertools.product(bow_1, repeat=3)]))\n",
    "bow_2_possibilities = list(set([p for p in itertools.product(bow_2, repeat=3)]))"
   ]
  },
  {
   "cell_type": "code",
   "execution_count": null,
   "metadata": {},
   "outputs": [],
   "source": [
    "print(\"Number of possibilities\")\n",
    "print(\"\\tBow 1: {n_bow_1_possibilities}\".format(n_bow_1_possibilities=str(len(bow_1_possibilities))))\n",
    "print(\"\\tBow 2: {n_bow_2_possibilities}\".format(n_bow_2_possibilities=str(len(bow_2_possibilities))))"
   ]
  },
  {
   "cell_type": "code",
   "execution_count": 17,
   "metadata": {},
   "outputs": [],
   "source": [
    "bow_1_sums = [sum(p) for p in bow_1_possibilities]\n",
    "bow_2_sums = [sum(p) for p in bow_2_possibilities]"
   ]
  },
  {
   "cell_type": "code",
   "execution_count": 21,
   "metadata": {},
   "outputs": [],
   "source": [
    "bow_1_frequency_of_sums = collections.Counter(bow_1_sums)\n",
    "bow_2_frequency_of_sums = collections.Counter(bow_2_sums)"
   ]
  },
  {
   "cell_type": "code",
   "execution_count": 27,
   "metadata": {},
   "outputs": [],
   "source": [
    "bow_1_sums_average = statistics.mean(bow_1_sums)\n",
    "bow_2_sums_average = statistics.mean(bow_2_sums)"
   ]
  },
  {
   "cell_type": "code",
   "execution_count": 30,
   "metadata": {},
   "outputs": [
    {
     "name": "stdout",
     "output_type": "stream",
     "text": [
      "Average score for each bow\n",
      "\tBow 1: 24\n",
      "\tBow 2: 24\n"
     ]
    }
   ],
   "source": [
    "print(\"Average score for each bow\")\n",
    "print(\"\\tBow 1: {n_bow_1_possibilities}\".format(n_bow_1_possibilities=str(bow_1_sums_average)))\n",
    "print(\"\\tBow 2: {n_bow_2_possibilities}\".format(n_bow_2_possibilities=str(bow_2_sums_average)))"
   ]
  },
  {
   "cell_type": "code",
   "execution_count": 39,
   "metadata": {},
   "outputs": [],
   "source": [
    "bow_2_count_over = 0\n",
    "bow_2_count_less_than = 0\n",
    "bow_2_count_equals = 0\n",
    "\n",
    "for k, v in bow_2_frequency_of_sums.items():\n",
    "    if k > max(bow_1_sums):\n",
    "        bow_2_count_over += v\n",
    "    elif k == max(bow_1_sums):\n",
    "        bow_2_count_equals += v\n",
    "    elif k < max(bow_1_sums):\n",
    "        bow_2_count_less_than += v\n",
    "    else:\n",
    "        pass"
   ]
  },
  {
   "cell_type": "code",
   "execution_count": 40,
   "metadata": {},
   "outputs": [
    {
     "name": "stdout",
     "output_type": "stream",
     "text": [
      "Score distribution for Bow 2\n",
      "\tGreater than 24: 11\n",
      "\tLess than 24: 10\n",
      "\tEqual to 24: 6\n"
     ]
    }
   ],
   "source": [
    "print(\"Score distribution for Bow 2\")\n",
    "print(\"\\tGreater than 24: {n_bow_1_possibilities}\".format(n_bow_1_possibilities=str(bow_2_count_over)))\n",
    "print(\"\\tLess than 24: {n_bow_2_possibilities}\".format(n_bow_2_possibilities=str(bow_2_count_less_than)))\n",
    "print(\"\\tEqual to 24: {n_bow_2_possibilities}\".format(n_bow_2_possibilities=str(bow_2_count_equals)))"
   ]
  },
  {
   "cell_type": "code",
   "execution_count": 50,
   "metadata": {},
   "outputs": [
    {
     "name": "stdout",
     "output_type": "stream",
     "text": [
      "Bow 2 chance of winning\n",
      "\t52.0%\n",
      "Bow 1 chance of winning\n",
      "\t48.0%\n"
     ]
    }
   ],
   "source": [
    "print(\"Bow 2 chance of winning\")\n",
    "print(\"\\t\" + str(round((bow_2_count_over_24/(bow_2_count_less_than_24+bow_2_count_over_24)),2)*100) + \"%\")\n",
    "print(\"Bow 1 chance of winning\")\n",
    "print(\"\\t\" + str(round(1-(bow_2_count_over_24/(bow_2_count_less_than_24+bow_2_count_over_24)),2)*100) + \"%\")"
   ]
  },
  {
   "cell_type": "code",
   "execution_count": null,
   "metadata": {},
   "outputs": [],
   "source": []
  }
 ],
 "metadata": {
  "kernelspec": {
   "display_name": "Python 3",
   "language": "python",
   "name": "python3"
  },
  "language_info": {
   "codemirror_mode": {
    "name": "ipython",
    "version": 3
   },
   "file_extension": ".py",
   "mimetype": "text/x-python",
   "name": "python",
   "nbconvert_exporter": "python",
   "pygments_lexer": "ipython3",
   "version": "3.7.6"
  }
 },
 "nbformat": 4,
 "nbformat_minor": 4
}
