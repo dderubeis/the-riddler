{
 "cells": [
  {
   "cell_type": "code",
   "execution_count": 7,
   "metadata": {},
   "outputs": [],
   "source": [
    "possibilities_d4_d6_d8 = len(range(1,5))*len(range(1,7))*len(range(1,9))\n",
    "possibilities_d4_d6_d8_d10_d12_d20 = len(range(1,5))*len(range(1,7))*len(range(1,9))*len(range(1,11))*len(range(1,13))*len(range(1,21))"
   ]
  },
  {
   "cell_type": "code",
   "execution_count": 10,
   "metadata": {},
   "outputs": [],
   "source": [
    "d4_d6_d8_roll_count = 0\n",
    "d4_d6_d8_win_count = 0\n",
    "d4_d6_d8_d10_d12_d20_roll_count = 0\n",
    "d4_d6_d8_d10_d12_d20_win_count = 0\n",
    "\n",
    "for d4 in range(1,5):\n",
    "    for d6 in range(1,7):\n",
    "        for d8 in range(1,9):\n",
    "            d4_d6_d8_roll_count += 1\n",
    "            if d6 > d4 and d8 > d6:\n",
    "                d4_d6_d8_win_count += 1\n",
    "            for d10 in range(1, 11):\n",
    "                for d12 in range(1,13):\n",
    "                    for d20 in range(1,21):\n",
    "                        d4_d6_d8_d10_d12_d20_roll_count += 1\n",
    "                        if d6 > d4 and d8 > d6 and d10 > d8 and d12 > d10 and d20 > d12:\n",
    "                            d4_d6_d8_d10_d12_d20_win_count += 1"
   ]
  },
  {
   "cell_type": "code",
   "execution_count": 11,
   "metadata": {},
   "outputs": [
    {
     "name": "stdout",
     "output_type": "stream",
     "text": [
      "192 48 0.25\n",
      "460800 5434 0.011792534722222222\n"
     ]
    }
   ],
   "source": [
    "print(d4_d6_d8_roll_count, d4_d6_d8_win_count, d4_d6_d8_win_count*1.00/d4_d6_d8_roll_count)\n",
    "print(d4_d6_d8_d10_d12_d20_roll_count, d4_d6_d8_d10_d12_d20_win_count, d4_d6_d8_d10_d12_d20_win_count*1.00/d4_d6_d8_d10_d12_d20_roll_count)"
   ]
  },
  {
   "cell_type": "code",
   "execution_count": null,
   "metadata": {},
   "outputs": [],
   "source": []
  }
 ],
 "metadata": {
  "kernelspec": {
   "display_name": "Python 3",
   "language": "python",
   "name": "python3"
  },
  "language_info": {
   "codemirror_mode": {
    "name": "ipython",
    "version": 3
   },
   "file_extension": ".py",
   "mimetype": "text/x-python",
   "name": "python",
   "nbconvert_exporter": "python",
   "pygments_lexer": "ipython3",
   "version": "3.7.6"
  }
 },
 "nbformat": 4,
 "nbformat_minor": 4
}
